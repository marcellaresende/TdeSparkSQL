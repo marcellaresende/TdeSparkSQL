{
  "nbformat": 4,
  "nbformat_minor": 0,
  "metadata": {
    "colab": {
      "provenance": []
    },
    "kernelspec": {
      "name": "python3",
      "display_name": "Python 3"
    },
    "language_info": {
      "name": "python"
    }
  },
  "cells": [
    {
      "cell_type": "markdown",
      "source": [
        "# **TDE 03: SPARK SQL**\n",
        "### **Nomes:** Marcella Resende, João Xavier, Sofia Castilho, Bruno Imai"
      ],
      "metadata": {
        "id": "bvFxA-C7KI7M"
      }
    },
    {
      "cell_type": "code",
      "source": [
        "!pip install pyspark\n",
        "from pyspark.sql import SparkSession, Window\n",
        "from pyspark import SparkFiles\n",
        "from pyspark.sql.functions import * "
      ],
      "metadata": {
        "colab": {
          "base_uri": "https://localhost:8080/"
        },
        "id": "y-7bHcGlaeXL",
        "outputId": "dd1983f5-af3d-45c8-8940-1bc94b5d99ec"
      },
      "execution_count": null,
      "outputs": [
        {
          "output_type": "stream",
          "name": "stdout",
          "text": [
            "Looking in indexes: https://pypi.org/simple, https://us-python.pkg.dev/colab-wheels/public/simple/\n",
            "Requirement already satisfied: pyspark in /usr/local/lib/python3.7/dist-packages (3.3.1)\n",
            "Requirement already satisfied: py4j==0.10.9.5 in /usr/local/lib/python3.7/dist-packages (from pyspark) (0.10.9.5)\n"
          ]
        }
      ]
    },
    {
      "cell_type": "code",
      "source": [
        "spark = SparkSession.builder.master('local').appName('tdeSparkSQL').getOrCreate()"
      ],
      "metadata": {
        "id": "fEItHjSCc92S"
      },
      "execution_count": null,
      "outputs": []
    },
    {
      "cell_type": "code",
      "source": [
        "#Lê a base de dados csv, considerando que há cabeçalho, e inferschema = True, onde automaticamente identifica os tipos das colunas, separando por ;\n",
        "df = spark.read.csv(SparkFiles.get(\"/content/transactions_amostra.csv\"), header=True, inferSchema=True, sep=';')"
      ],
      "metadata": {
        "id": "wXmKy_I7cdty"
      },
      "execution_count": null,
      "outputs": []
    },
    {
      "cell_type": "code",
      "source": [
        "df.show(5)"
      ],
      "metadata": {
        "colab": {
          "base_uri": "https://localhost:8080/"
        },
        "id": "u0U82OKSde2M",
        "outputId": "2526d1a6-ec15-46ec-acfd-fa96e0f424e5"
      },
      "execution_count": null,
      "outputs": [
        {
          "output_type": "stream",
          "name": "stdout",
          "text": [
            "+---------------+----+---------+--------------------+---------+---------+---------+-------------------+--------+--------------------+\n",
            "|country_or_area|year|comm_code|           commodity|     flow|trade_usd|weight_kg|      quantity_name|quantity|            category|\n",
            "+---------------+----+---------+--------------------+---------+---------+---------+-------------------+--------+--------------------+\n",
            "|        Belgium|2016|   920510|Brass-wind instru...|   Export|   571297|   3966.0|    Number of items|  4135.0|92_musical_instru...|\n",
            "|      Guatemala|2008|   660200|Walking-sticks, s...|   Export|    35022|   5575.0|    Number of items| 10089.0|66_umbrellas_walk...|\n",
            "|       Barbados|2006|   220210|Beverage waters, ...|Re-Export|    81058|  44458.0|   Volume in litres| 24113.0|22_beverages_spir...|\n",
            "|        Tunisia|2016|   780411|Lead foil of a th...|   Import|     4658|    121.0|Weight in kilograms|   121.0|78_lead_and_artic...|\n",
            "|      Lithuania|1996|   560110|Sanitary towels, ...|   Export|    76499|   5419.0|Weight in kilograms|  5419.0|56_wadding_felt_n...|\n",
            "+---------------+----+---------+--------------------+---------+---------+---------+-------------------+--------+--------------------+\n",
            "only showing top 5 rows\n",
            "\n"
          ]
        }
      ]
    },
    {
      "cell_type": "markdown",
      "source": [
        "# **Questão 1**\n",
        "### Número de transações envolvendo o Brasil"
      ],
      "metadata": {
        "id": "91CzYHMsKqqh"
      }
    },
    {
      "cell_type": "code",
      "source": [
        "#Só resulta onde país possui 'Brazil'\n",
        "df_brasil = df.filter(\"country_or_area == 'Brazil'\")\n",
        "\n",
        "#Realiza a contagem através da função count() de quantas vezes ocorreu transações envolvendo o Brasil\n",
        "df_brasil.groupBy('country_or_area').count().show()"
      ],
      "metadata": {
        "colab": {
          "base_uri": "https://localhost:8080/"
        },
        "id": "CEEHq3JZd1Iz",
        "outputId": "ed228916-639c-45da-d43a-5c1cc37085d1"
      },
      "execution_count": null,
      "outputs": [
        {
          "output_type": "stream",
          "name": "stdout",
          "text": [
            "+---------------+-----+\n",
            "|country_or_area|count|\n",
            "+---------------+-----+\n",
            "|         Brazil|54762|\n",
            "+---------------+-----+\n",
            "\n"
          ]
        }
      ]
    },
    {
      "cell_type": "markdown",
      "source": [
        "#Questão 2\n",
        "### Número de transações por ano"
      ],
      "metadata": {
        "id": "tUhemvWAWIpY"
      }
    },
    {
      "cell_type": "code",
      "source": [
        "#Realiza o agrupamento por ano através da função groupBy(), a contagem através da função count() de quantas vezes ocorreu transações \n",
        "#envolvendo o ano e ordena os resultados utilizando a função orderBy() pelo ano\n",
        "df_transacoes_ano = df.groupBy('year').count().orderBy('year').show(5)"
      ],
      "metadata": {
        "colab": {
          "base_uri": "https://localhost:8080/"
        },
        "id": "A1VNKEkdePd0",
        "outputId": "25d5c370-8b12-46a5-849b-31864bad34ac"
      },
      "execution_count": null,
      "outputs": [
        {
          "output_type": "stream",
          "name": "stdout",
          "text": [
            "+----+-----+\n",
            "|year|count|\n",
            "+----+-----+\n",
            "|1988| 8568|\n",
            "|1989|16916|\n",
            "|1990|18188|\n",
            "|1991|22652|\n",
            "|1992|32860|\n",
            "+----+-----+\n",
            "only showing top 5 rows\n",
            "\n"
          ]
        }
      ]
    },
    {
      "cell_type": "markdown",
      "source": [
        "# Questão 3\n",
        "### Número de transações por tipo de fluxo e por ano"
      ],
      "metadata": {
        "id": "2eTsdIpgnOvN"
      }
    },
    {
      "cell_type": "code",
      "source": [
        "#Realiza o agrupamento por ano e tipo de fluxo pela função groupBy(), a contagem das ocorrências pela função count() e ordena pelo ano e tipo de fluxo \n",
        "#através da função orderBy()\n",
        "df_fluxo_ano = df.groupBy('year', 'flow').count().orderBy('year', 'flow').show(5)"
      ],
      "metadata": {
        "colab": {
          "base_uri": "https://localhost:8080/"
        },
        "id": "4z5W3YzWf3Rq",
        "outputId": "b42cd9ba-e058-4181-9cbb-a1373896442a"
      },
      "execution_count": null,
      "outputs": [
        {
          "output_type": "stream",
          "name": "stdout",
          "text": [
            "+----+---------+-----+\n",
            "|year|     flow|count|\n",
            "+----+---------+-----+\n",
            "|1988|   Export| 3542|\n",
            "|1988|   Import| 4268|\n",
            "|1988|Re-Export|  758|\n",
            "|1989|   Export| 7092|\n",
            "|1989|   Import| 8845|\n",
            "+----+---------+-----+\n",
            "only showing top 5 rows\n",
            "\n"
          ]
        }
      ]
    },
    {
      "cell_type": "markdown",
      "source": [
        "# Questão 4\n",
        "### O preço médio das commodities por ano"
      ],
      "metadata": {
        "id": "CQtM-mhC_A2r"
      }
    },
    {
      "cell_type": "code",
      "source": [
        "#Cria um dataframe, onde adiciona uma coluna chamada 'soma_preco' que possui a soma dos preços agrupadas por código e ano, e outra coluna chamada 'id_code_year'\n",
        "#que possui a concatenação do código e ano, depois exclui a coluna 'comm_code' e 'year'\n",
        "df_soma_preco = df.withColumn('soma_preco', col('trade_usd')).groupBy('comm_code','year').sum('soma_preco') \\\n",
        "                              .withColumn('id_code_year', concat(col('comm_code'), lit(' '),col('year'))) \\\n",
        "                              .drop('comm_code') \\\n",
        "                              .drop('year') \n",
        "\n",
        "#Cria um dataframe, onde faz a contagem dos registros agrupados por código e ano, e cria uma coluna chamada 'id_code_year'\n",
        "#que possui a concatenação do código e ano, depois exclui a coluna 'comm_code' e 'year'\n",
        "df_soma_qntd = df.groupBy('comm_code','year').count() \\\n",
        "                          .withColumn('id_code_year', concat(col('comm_code'), lit(' '),col('year'))) \\\n",
        "                          .drop('comm_code') \\\n",
        "                          .drop('year') \n",
        "\n",
        "#Cria um dataframe onde realiza um join entre as os dois dataframes criados acima através do id_code_year, adiciona uma coluna chamada 'preco_medio' \n",
        "#com a divisão entre a coluna 'sum(soma_preco)' e 'count' resultando na média dos preços das commodities por ano, excluindo as colunas 'sum(soma_preco)', 'count'\n",
        "#e 'id_code_year' do df_soma_preco\n",
        "df_resultado = df_soma_preco.join(df_soma_qntd, df_soma_preco.id_code_year == df_soma_qntd.id_code_year, 'inner') \\\n",
        "                                  .withColumn('preco_medio', (col('sum(soma_preco)')) / (col('count'))) \\\n",
        "                                  .drop('sum(soma_preco)') \\\n",
        "                                  .drop('count') \\\n",
        "                                  .drop(df_soma_preco.id_code_year)\n",
        "\n",
        "#Mostra os 10 primeiros resultados do df_resultado\n",
        "df_resultado.show(10)"
      ],
      "metadata": {
        "colab": {
          "base_uri": "https://localhost:8080/"
        },
        "id": "U8XZwsINhbpk",
        "outputId": "16a7ff4c-4299-45e6-b64e-fd6dfaddd3aa"
      },
      "execution_count": null,
      "outputs": [
        {
          "output_type": "stream",
          "name": "stdout",
          "text": [
            "+------------+-------------------+\n",
            "|id_code_year|        preco_medio|\n",
            "+------------+-------------------+\n",
            "| 880110 1993|  363275.6818181818|\n",
            "| 293722 2002|       1.46001495E7|\n",
            "| 721632 2006|         8737203.75|\n",
            "| 160411 2010|         2820821.62|\n",
            "| 600121 2016| 1001889.1463414634|\n",
            "| 700210 2009| 1038238.7368421053|\n",
            "| 381720 1999|             9956.0|\n",
            "| 420222 1994|4.886976628205128E7|\n",
            "| 900662 2006|             2173.5|\n",
            "| 853223 2004|  457601.3333333333|\n",
            "+------------+-------------------+\n",
            "only showing top 10 rows\n",
            "\n"
          ]
        }
      ]
    },
    {
      "cell_type": "code",
      "source": [
        "#Realiza o agrupamento por código e ano através da função groupBy(), realiza a média dos preços e ordena de forma descentende através da coluna que possui as médias\n",
        "df.groupBy('comm_code','year').avg('trade_usd').orderBy('avg(trade_usd)', ascending = False).show(10)"
      ],
      "metadata": {
        "colab": {
          "base_uri": "https://localhost:8080/"
        },
        "id": "uo0z1bEzXUhC",
        "outputId": "908885c1-c8c4-4c10-b3ea-3bae5938e98e"
      },
      "execution_count": null,
      "outputs": [
        {
          "output_type": "stream",
          "name": "stdout",
          "text": [
            "+---------+----+--------------------+\n",
            "|comm_code|year|      avg(trade_usd)|\n",
            "+---------+----+--------------------+\n",
            "|   270900|2014|2.315410248039394E10|\n",
            "|   270900|2013|2.091229040030303...|\n",
            "|   270900|2012|1.558291985015789...|\n",
            "|   270900|2007|1.476528541635897...|\n",
            "|   270900|2011|1.236943290368181...|\n",
            "|   270900|2006|1.216849675776470...|\n",
            "|   270900|2010| 8.596000197073172E9|\n",
            "|   270900|2009| 8.245109901478261E9|\n",
            "|   270900|2008| 7.869201615581395E9|\n",
            "|   271000|2012| 7.131366563296875E9|\n",
            "+---------+----+--------------------+\n",
            "only showing top 10 rows\n",
            "\n"
          ]
        }
      ]
    },
    {
      "cell_type": "markdown",
      "source": [
        "# Questão 5\n",
        "### O preço médio das transações que envolvem o Brasil por tipo de unidade, ano, categoria e fluxo do tipo 'Export'"
      ],
      "metadata": {
        "id": "uI6HRqRvPp41"
      }
    },
    {
      "cell_type": "code",
      "source": [
        "#Só resulta onde país possui 'Brazil'\n",
        "df_brasil = df.filter(\"country_or_area == 'Brazil'\")\n",
        "\n",
        "#A partir do dataframe com o filtro do Brasil, filtra os resultados que possuem Export no tipo de fluxo\n",
        "df_brasil_export = df_brasil.filter(\"flow == 'Export'\")\n",
        "\n",
        "df_brasil_export.show(5)"
      ],
      "metadata": {
        "colab": {
          "base_uri": "https://localhost:8080/"
        },
        "id": "65IDFGT8lVwk",
        "outputId": "41a99bf3-cc6e-457f-e0ec-66ba5b4a8935"
      },
      "execution_count": null,
      "outputs": [
        {
          "output_type": "stream",
          "name": "stdout",
          "text": [
            "+---------------+----+---------+--------------------+------+---------+---------+-------------------+--------+--------------------+\n",
            "|country_or_area|year|comm_code|           commodity|  flow|trade_usd|weight_kg|      quantity_name|quantity|            category|\n",
            "+---------------+----+---------+--------------------+------+---------+---------+-------------------+--------+--------------------+\n",
            "|         Brazil|2016|   621320|Handkerchiefs, of...|Export|    47155|    944.0|Weight in kilograms|   944.0|62_articles_of_ap...|\n",
            "|         Brazil|2014|   482040|Business forms, i...|Export|    34742|   1977.0|Weight in kilograms|  1977.0|48_paper_paperboa...|\n",
            "|         Brazil|1997|   730531|Steel pipes nes, ...|Export|   221733| 344867.0|Weight in kilograms|344867.0|73_articles_of_ir...|\n",
            "|         Brazil|2012|   284160|Manganites, manga...|Export|     1993|    139.0|Weight in kilograms|   139.0|28_inorganic_chem...|\n",
            "|         Brazil|2013|   300432|Adrenal cortical ...|Export| 24425430| 361150.0|Weight in kilograms|361150.0|30_pharmaceutical...|\n",
            "+---------------+----+---------+--------------------+------+---------+---------+-------------------+--------+--------------------+\n",
            "only showing top 5 rows\n",
            "\n"
          ]
        }
      ]
    },
    {
      "cell_type": "code",
      "source": [
        "#Realiza o agrupamento dos dados por ano, código, tipo de unidade, categoria (quantity), realiza a média dos preços através da função avg() e \n",
        "#ordena pela média através da função orderBy()\n",
        "df_brasil_export.groupBy('year','comm_code','quantity_name', 'quantity').avg('trade_usd').orderBy('avg(trade_usd)').show(10)"
      ],
      "metadata": {
        "id": "eawOo8L7jpz2",
        "colab": {
          "base_uri": "https://localhost:8080/"
        },
        "outputId": "9c2c5df6-c6db-4f1a-a1e6-9bb66bd6f0d2"
      },
      "execution_count": null,
      "outputs": [
        {
          "output_type": "stream",
          "name": "stdout",
          "text": [
            "+----+---------+-------------------+--------+--------------+\n",
            "|year|comm_code|      quantity_name|quantity|avg(trade_usd)|\n",
            "+----+---------+-------------------+--------+--------------+\n",
            "|1994|    30270|Weight in kilograms|     3.0|           1.0|\n",
            "|2004|   280470|Weight in kilograms|     1.0|           1.0|\n",
            "|2013|   252921|Weight in kilograms|     1.0|           1.0|\n",
            "|2007|   110510|Weight in kilograms|     1.0|           1.0|\n",
            "|2002|   721011|Weight in kilograms|     2.0|           1.0|\n",
            "|1993|    80290|Weight in kilograms|     3.0|           2.0|\n",
            "|1994|   950612|Weight in kilograms|     4.0|           2.0|\n",
            "|1993|   470692|Weight in kilograms|     1.0|           2.0|\n",
            "|1998|   481720|Weight in kilograms|     4.0|           2.0|\n",
            "|2010|   400241|Weight in kilograms|     4.0|           2.0|\n",
            "+----+---------+-------------------+--------+--------------+\n",
            "only showing top 10 rows\n",
            "\n"
          ]
        }
      ]
    },
    {
      "cell_type": "markdown",
      "source": [
        "# Questão 6\n",
        "### Preço máximo, mínimo e média dos preços por tipo de unidade e ano  "
      ],
      "metadata": {
        "id": "QNHLCO-yZAyT"
      }
    },
    {
      "cell_type": "code",
      "source": [
        "#Cria um dataframe, adiciona uma coluna chamada 'soma_preco_ano' somando os preços e agrupando por tipo de unidade e ano, e outra coluna chamada 'id_Q6' \n",
        "#com a concatenação de tipo de unidade e ano, exclui a coluna  'quantity_name' e 'year'\n",
        "df_soma_preco_ano = df.withColumn('soma_preco_ano', col('trade_usd')).groupBy('quantity_name', 'year').sum('soma_preco_ano') \\\n",
        "                                  .withColumn('id_Q6', concat(col('quantity_name'), lit(' '), col('year'))) \\\n",
        "                                  .drop('quantity_name') \\\n",
        "                                  .drop('year')\n",
        "                      \n",
        "#Cria um dataframe, agrupanda por tipo de unidade e ano e realiza a contagem de ocorrências, e outra coluna chamada 'id_Q6' com a concatenação de \n",
        "#tipo de unidade e ano, exclui a coluna  'quantity_name' e 'year'\n",
        "df_soma_qntd_ano = df.groupBy('quantity_name', 'year').count() \\\n",
        "                              .withColumn('id_Q6', concat(col('quantity_name'), lit(' '), col('year'))) \\\n",
        "                              .drop('quantity_name') \\\n",
        "                              .drop('year')\n",
        "\n",
        "#Cria um dataframe onde realiza um join entre as os dois dataframes criados acima através do id_Q6, adiciona uma coluna chamada 'preco_medio' \n",
        "#com a divisão entre a coluna 'sum(soma_preco_ano)' e 'count' resultando na média dos preços das commodities por ano, excluindo as colunas 'sum(soma_preco)', 'count'\n",
        "#e 'id_Q6' do df_soma_preco_ano\n",
        "df_resultado_ano = df_soma_preco_ano.join(df_soma_qntd_ano, df_soma_preco_ano.id_Q6 == df_soma_qntd_ano.id_Q6, 'inner') \\\n",
        "                                  .withColumn('preco_medio', (col('sum(soma_preco_ano)')) / (col('count'))) \\\n",
        "                                  .drop('sum(soma_preco_ano)') \\\n",
        "                                  .drop('count') \\\n",
        "                                  .drop(df_soma_preco_ano.id_Q6)\n",
        "\n",
        "df_resultado_ano.show(10)"
      ],
      "metadata": {
        "colab": {
          "base_uri": "https://localhost:8080/"
        },
        "id": "1hp9g9wwOO2U",
        "outputId": "8bb2342f-f905-4048-fdc6-a039039921ba"
      },
      "execution_count": null,
      "outputs": [
        {
          "output_type": "stream",
          "name": "stdout",
          "text": [
            "+--------------------+--------------------+\n",
            "|               id_Q6|         preco_medio|\n",
            "+--------------------+--------------------+\n",
            "|Electrical energy...|           4122301.5|\n",
            "|Number of pairs 2008|3.9991725244176015E7|\n",
            "|Weight in carats ...| 9.718167391666667E7|\n",
            "|Thousands of item...|   6971520.423076923|\n",
            "|Volume in cubic m...|   2.1613620009375E7|\n",
            "|Area in square me...|1.0891966478880407E7|\n",
            "|Length in metres ...| 1.493895061967213E7|\n",
            "|Number of pairs 2013| 3.524038769922879E7|\n",
            "|Volume in litres ...| 8.903355118110237E7|\n",
            "|Number of pairs 1990|   6225074.855421687|\n",
            "+--------------------+--------------------+\n",
            "only showing top 10 rows\n",
            "\n"
          ]
        }
      ]
    },
    {
      "cell_type": "code",
      "source": [
        "#Realiza o agrupamento por tipo de unidade e ano através da função groupBy(), pega o valor máximo de preço através da função max() e ordena de forma descendente\n",
        "#pela função orderBy()\n",
        "df.groupBy('quantity_name','year').max('trade_usd').orderBy(max('trade_usd'), ascending = False ).show(10)"
      ],
      "metadata": {
        "colab": {
          "base_uri": "https://localhost:8080/"
        },
        "id": "FzrZ3euPVyrp",
        "outputId": "4bfb8731-a404-44d3-da4a-a0758644e612"
      },
      "execution_count": null,
      "outputs": [
        {
          "output_type": "stream",
          "name": "stdout",
          "text": [
            "+-------------------+----+--------------+\n",
            "|      quantity_name|year|max(trade_usd)|\n",
            "+-------------------+----+--------------+\n",
            "|Weight in kilograms|2013|  401459981239|\n",
            "|Weight in kilograms|2014|  359475936313|\n",
            "|Weight in kilograms|2007|  290899699040|\n",
            "|Weight in kilograms|2006|  262924347374|\n",
            "|Weight in kilograms|2012|  220793843089|\n",
            "|Weight in kilograms|2008|  155473624044|\n",
            "|Weight in kilograms|2010|  105814257878|\n",
            "|Weight in kilograms|2000|   98728826923|\n",
            "|Weight in kilograms|2009|   89255586690|\n",
            "|Weight in kilograms|2011|   82986100000|\n",
            "+-------------------+----+--------------+\n",
            "only showing top 10 rows\n",
            "\n"
          ]
        }
      ]
    },
    {
      "cell_type": "code",
      "source": [
        "#Realiza o agrupamento por tipo de unidade e ano através da função groupBy(), pega o valor mínimo de preço através da função min() e ordena de forma ascendente\n",
        "#pela função orderBy()\n",
        "df.groupBy('quantity_name','year').min('trade_usd').orderBy(min('trade_usd'), asceding = True).show(10)"
      ],
      "metadata": {
        "colab": {
          "base_uri": "https://localhost:8080/"
        },
        "id": "th7Y7uv9WKmo",
        "outputId": "7f34f0cf-d276-4ad2-efe7-61ae9b74af1a"
      },
      "execution_count": null,
      "outputs": [
        {
          "output_type": "stream",
          "name": "stdout",
          "text": [
            "+-------------------+----+--------------+\n",
            "|      quantity_name|year|min(trade_usd)|\n",
            "+-------------------+----+--------------+\n",
            "|   Volume in litres|2009|             1|\n",
            "|    Number of pairs|2004|             1|\n",
            "|Weight in kilograms|2013|             1|\n",
            "|    Number of items|2002|             1|\n",
            "|Weight in kilograms|1998|             1|\n",
            "|    Number of items|2011|             1|\n",
            "|Weight in kilograms|1990|             1|\n",
            "|   Volume in litres|2001|             1|\n",
            "|Weight in kilograms|2008|             1|\n",
            "|    Number of items|2014|             1|\n",
            "+-------------------+----+--------------+\n",
            "only showing top 10 rows\n",
            "\n"
          ]
        }
      ]
    },
    {
      "cell_type": "markdown",
      "source": [
        "# Questão 7\n",
        "### A commodity mais comercializada em 2016 por tipo de fluxo"
      ],
      "metadata": {
        "id": "ZzsLFL4qwOO4"
      }
    },
    {
      "cell_type": "code",
      "source": [
        "#Partição da base de dados por tipo de fluxo\n",
        "w = Window.partitionBy('flow')\n",
        "\n",
        "#Filtra a base de dados pelo ano 2016\n",
        "df_filter = df.filter(\"year = '2016'\")\n",
        "\n",
        "#Agrupa os dados por commodity e tipo de fluxo, somando as quantidades comercializadas\n",
        "df_groupBy = df_filter.groupBy('commodity', 'flow').agg(sum('quantity').alias('sum_quantity'))\n",
        "\n",
        "#Verifica a commodity mais comercializada, através da função max() na partição da base de dados\n",
        "df_partition = df_groupBy.withColumn('max_quantity', max('sum_quantity').over(w))\n",
        "\n",
        "#Filtrar somente os valores que correspondem a quantidade máxima em cada partição \n",
        "df_result = df_partition.where(col('max_quantity') == col('sum_quantity')).drop('sum_quantity')\n",
        "\n",
        "df_result.show()"
      ],
      "metadata": {
        "colab": {
          "base_uri": "https://localhost:8080/"
        },
        "id": "0vjo3KROadSv",
        "outputId": "b361ce37-5892-4374-a334-b1a8dbfc114f"
      },
      "execution_count": null,
      "outputs": [
        {
          "output_type": "stream",
          "name": "stdout",
          "text": [
            "+--------------------+---------+-----------------+\n",
            "|           commodity|     flow|     max_quantity|\n",
            "+--------------------+---------+-----------------+\n",
            "|Ice, snow and pot...|   Export| 6.99847368575E11|\n",
            "|Iron ore, concent...|   Import|1.063049523354E12|\n",
            "|Safety razor blad...|Re-Export|       1.261968E9|\n",
            "|Chem wood pulp, s...|Re-Import|      3.8774873E7|\n",
            "+--------------------+---------+-----------------+\n",
            "\n"
          ]
        }
      ]
    }
  ]
}